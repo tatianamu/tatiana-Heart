{
 "cells": [
  {
   "cell_type": "code",
   "execution_count": 495,
   "id": "a18d6997-e8ab-4272-8dbf-d2e88d88246e",
   "metadata": {},
   "outputs": [],
   "source": [
    "#importar bibliotecas \n",
    "import numpy as np\n",
    "import pandas as pd\n",
    "import matplotlib.pyplot as plt\n",
    "import seaborn as sns \n",
    "\n",
    "# libreria de para ciencia de datos\n",
    "\n",
    "from sklearn.linear_model import LinearRegression\n",
    "from sklearn import metrics \n",
    "from sklearn.model_selection import train_test_split\n",
    "from sklearn.metrics import classification_report, confusion_matrix \n"
   ]
  },
  {
   "cell_type": "code",
   "execution_count": 500,
   "id": "50e4dbc3-2cfe-405d-8e26-068067d6a63b",
   "metadata": {},
   "outputs": [],
   "source": [
    "hear_Disease= pd.read_csv(\"D:/heart_cleveland_upload.csv\")"
   ]
  },
  {
   "cell_type": "code",
   "execution_count": 477,
   "id": "80b57534-4a7c-4039-b7fc-3d20ff65f418",
   "metadata": {},
   "outputs": [
    {
     "data": {
      "text/html": [
       "<div>\n",
       "<style scoped>\n",
       "    .dataframe tbody tr th:only-of-type {\n",
       "        vertical-align: middle;\n",
       "    }\n",
       "\n",
       "    .dataframe tbody tr th {\n",
       "        vertical-align: top;\n",
       "    }\n",
       "\n",
       "    .dataframe thead th {\n",
       "        text-align: right;\n",
       "    }\n",
       "</style>\n",
       "<table border=\"1\" class=\"dataframe\">\n",
       "  <thead>\n",
       "    <tr style=\"text-align: right;\">\n",
       "      <th></th>\n",
       "      <th>age</th>\n",
       "      <th>sex</th>\n",
       "      <th>cp</th>\n",
       "      <th>trestbps</th>\n",
       "      <th>chol</th>\n",
       "      <th>fbs</th>\n",
       "      <th>restecg</th>\n",
       "      <th>thalach</th>\n",
       "      <th>exang</th>\n",
       "      <th>oldpeak</th>\n",
       "      <th>slope</th>\n",
       "      <th>ca</th>\n",
       "      <th>thal</th>\n",
       "      <th>condition</th>\n",
       "    </tr>\n",
       "  </thead>\n",
       "  <tbody>\n",
       "    <tr>\n",
       "      <th>0</th>\n",
       "      <td>69</td>\n",
       "      <td>1</td>\n",
       "      <td>0</td>\n",
       "      <td>160</td>\n",
       "      <td>234</td>\n",
       "      <td>1</td>\n",
       "      <td>2</td>\n",
       "      <td>131</td>\n",
       "      <td>0</td>\n",
       "      <td>0.1</td>\n",
       "      <td>1</td>\n",
       "      <td>1</td>\n",
       "      <td>0</td>\n",
       "      <td>0</td>\n",
       "    </tr>\n",
       "    <tr>\n",
       "      <th>1</th>\n",
       "      <td>69</td>\n",
       "      <td>0</td>\n",
       "      <td>0</td>\n",
       "      <td>140</td>\n",
       "      <td>239</td>\n",
       "      <td>0</td>\n",
       "      <td>0</td>\n",
       "      <td>151</td>\n",
       "      <td>0</td>\n",
       "      <td>1.8</td>\n",
       "      <td>0</td>\n",
       "      <td>2</td>\n",
       "      <td>0</td>\n",
       "      <td>0</td>\n",
       "    </tr>\n",
       "    <tr>\n",
       "      <th>2</th>\n",
       "      <td>66</td>\n",
       "      <td>0</td>\n",
       "      <td>0</td>\n",
       "      <td>150</td>\n",
       "      <td>226</td>\n",
       "      <td>0</td>\n",
       "      <td>0</td>\n",
       "      <td>114</td>\n",
       "      <td>0</td>\n",
       "      <td>2.6</td>\n",
       "      <td>2</td>\n",
       "      <td>0</td>\n",
       "      <td>0</td>\n",
       "      <td>0</td>\n",
       "    </tr>\n",
       "    <tr>\n",
       "      <th>3</th>\n",
       "      <td>65</td>\n",
       "      <td>1</td>\n",
       "      <td>0</td>\n",
       "      <td>138</td>\n",
       "      <td>282</td>\n",
       "      <td>1</td>\n",
       "      <td>2</td>\n",
       "      <td>174</td>\n",
       "      <td>0</td>\n",
       "      <td>1.4</td>\n",
       "      <td>1</td>\n",
       "      <td>1</td>\n",
       "      <td>0</td>\n",
       "      <td>1</td>\n",
       "    </tr>\n",
       "    <tr>\n",
       "      <th>4</th>\n",
       "      <td>64</td>\n",
       "      <td>1</td>\n",
       "      <td>0</td>\n",
       "      <td>110</td>\n",
       "      <td>211</td>\n",
       "      <td>0</td>\n",
       "      <td>2</td>\n",
       "      <td>144</td>\n",
       "      <td>1</td>\n",
       "      <td>1.8</td>\n",
       "      <td>1</td>\n",
       "      <td>0</td>\n",
       "      <td>0</td>\n",
       "      <td>0</td>\n",
       "    </tr>\n",
       "    <tr>\n",
       "      <th>5</th>\n",
       "      <td>64</td>\n",
       "      <td>1</td>\n",
       "      <td>0</td>\n",
       "      <td>170</td>\n",
       "      <td>227</td>\n",
       "      <td>0</td>\n",
       "      <td>2</td>\n",
       "      <td>155</td>\n",
       "      <td>0</td>\n",
       "      <td>0.6</td>\n",
       "      <td>1</td>\n",
       "      <td>0</td>\n",
       "      <td>2</td>\n",
       "      <td>0</td>\n",
       "    </tr>\n",
       "    <tr>\n",
       "      <th>6</th>\n",
       "      <td>63</td>\n",
       "      <td>1</td>\n",
       "      <td>0</td>\n",
       "      <td>145</td>\n",
       "      <td>233</td>\n",
       "      <td>1</td>\n",
       "      <td>2</td>\n",
       "      <td>150</td>\n",
       "      <td>0</td>\n",
       "      <td>2.3</td>\n",
       "      <td>2</td>\n",
       "      <td>0</td>\n",
       "      <td>1</td>\n",
       "      <td>0</td>\n",
       "    </tr>\n",
       "    <tr>\n",
       "      <th>7</th>\n",
       "      <td>61</td>\n",
       "      <td>1</td>\n",
       "      <td>0</td>\n",
       "      <td>134</td>\n",
       "      <td>234</td>\n",
       "      <td>0</td>\n",
       "      <td>0</td>\n",
       "      <td>145</td>\n",
       "      <td>0</td>\n",
       "      <td>2.6</td>\n",
       "      <td>1</td>\n",
       "      <td>2</td>\n",
       "      <td>0</td>\n",
       "      <td>1</td>\n",
       "    </tr>\n",
       "    <tr>\n",
       "      <th>8</th>\n",
       "      <td>60</td>\n",
       "      <td>0</td>\n",
       "      <td>0</td>\n",
       "      <td>150</td>\n",
       "      <td>240</td>\n",
       "      <td>0</td>\n",
       "      <td>0</td>\n",
       "      <td>171</td>\n",
       "      <td>0</td>\n",
       "      <td>0.9</td>\n",
       "      <td>0</td>\n",
       "      <td>0</td>\n",
       "      <td>0</td>\n",
       "      <td>0</td>\n",
       "    </tr>\n",
       "    <tr>\n",
       "      <th>9</th>\n",
       "      <td>59</td>\n",
       "      <td>1</td>\n",
       "      <td>0</td>\n",
       "      <td>178</td>\n",
       "      <td>270</td>\n",
       "      <td>0</td>\n",
       "      <td>2</td>\n",
       "      <td>145</td>\n",
       "      <td>0</td>\n",
       "      <td>4.2</td>\n",
       "      <td>2</td>\n",
       "      <td>0</td>\n",
       "      <td>2</td>\n",
       "      <td>0</td>\n",
       "    </tr>\n",
       "    <tr>\n",
       "      <th>10</th>\n",
       "      <td>59</td>\n",
       "      <td>1</td>\n",
       "      <td>0</td>\n",
       "      <td>170</td>\n",
       "      <td>288</td>\n",
       "      <td>0</td>\n",
       "      <td>2</td>\n",
       "      <td>159</td>\n",
       "      <td>0</td>\n",
       "      <td>0.2</td>\n",
       "      <td>1</td>\n",
       "      <td>0</td>\n",
       "      <td>2</td>\n",
       "      <td>1</td>\n",
       "    </tr>\n",
       "    <tr>\n",
       "      <th>11</th>\n",
       "      <td>59</td>\n",
       "      <td>1</td>\n",
       "      <td>0</td>\n",
       "      <td>160</td>\n",
       "      <td>273</td>\n",
       "      <td>0</td>\n",
       "      <td>2</td>\n",
       "      <td>125</td>\n",
       "      <td>0</td>\n",
       "      <td>0.0</td>\n",
       "      <td>0</td>\n",
       "      <td>0</td>\n",
       "      <td>0</td>\n",
       "      <td>1</td>\n",
       "    </tr>\n",
       "    <tr>\n",
       "      <th>12</th>\n",
       "      <td>59</td>\n",
       "      <td>1</td>\n",
       "      <td>0</td>\n",
       "      <td>134</td>\n",
       "      <td>204</td>\n",
       "      <td>0</td>\n",
       "      <td>0</td>\n",
       "      <td>162</td>\n",
       "      <td>0</td>\n",
       "      <td>0.8</td>\n",
       "      <td>0</td>\n",
       "      <td>2</td>\n",
       "      <td>0</td>\n",
       "      <td>1</td>\n",
       "    </tr>\n",
       "    <tr>\n",
       "      <th>13</th>\n",
       "      <td>58</td>\n",
       "      <td>0</td>\n",
       "      <td>0</td>\n",
       "      <td>150</td>\n",
       "      <td>283</td>\n",
       "      <td>1</td>\n",
       "      <td>2</td>\n",
       "      <td>162</td>\n",
       "      <td>0</td>\n",
       "      <td>1.0</td>\n",
       "      <td>0</td>\n",
       "      <td>0</td>\n",
       "      <td>0</td>\n",
       "      <td>0</td>\n",
       "    </tr>\n",
       "    <tr>\n",
       "      <th>14</th>\n",
       "      <td>56</td>\n",
       "      <td>1</td>\n",
       "      <td>0</td>\n",
       "      <td>120</td>\n",
       "      <td>193</td>\n",
       "      <td>0</td>\n",
       "      <td>2</td>\n",
       "      <td>162</td>\n",
       "      <td>0</td>\n",
       "      <td>1.9</td>\n",
       "      <td>1</td>\n",
       "      <td>0</td>\n",
       "      <td>2</td>\n",
       "      <td>0</td>\n",
       "    </tr>\n",
       "    <tr>\n",
       "      <th>15</th>\n",
       "      <td>52</td>\n",
       "      <td>1</td>\n",
       "      <td>0</td>\n",
       "      <td>118</td>\n",
       "      <td>186</td>\n",
       "      <td>0</td>\n",
       "      <td>2</td>\n",
       "      <td>190</td>\n",
       "      <td>0</td>\n",
       "      <td>0.0</td>\n",
       "      <td>1</td>\n",
       "      <td>0</td>\n",
       "      <td>1</td>\n",
       "      <td>0</td>\n",
       "    </tr>\n",
       "    <tr>\n",
       "      <th>16</th>\n",
       "      <td>52</td>\n",
       "      <td>1</td>\n",
       "      <td>0</td>\n",
       "      <td>152</td>\n",
       "      <td>298</td>\n",
       "      <td>1</td>\n",
       "      <td>0</td>\n",
       "      <td>178</td>\n",
       "      <td>0</td>\n",
       "      <td>1.2</td>\n",
       "      <td>1</td>\n",
       "      <td>0</td>\n",
       "      <td>2</td>\n",
       "      <td>0</td>\n",
       "    </tr>\n",
       "    <tr>\n",
       "      <th>17</th>\n",
       "      <td>51</td>\n",
       "      <td>1</td>\n",
       "      <td>0</td>\n",
       "      <td>125</td>\n",
       "      <td>213</td>\n",
       "      <td>0</td>\n",
       "      <td>2</td>\n",
       "      <td>125</td>\n",
       "      <td>1</td>\n",
       "      <td>1.4</td>\n",
       "      <td>0</td>\n",
       "      <td>1</td>\n",
       "      <td>0</td>\n",
       "      <td>0</td>\n",
       "    </tr>\n",
       "    <tr>\n",
       "      <th>18</th>\n",
       "      <td>45</td>\n",
       "      <td>1</td>\n",
       "      <td>0</td>\n",
       "      <td>110</td>\n",
       "      <td>264</td>\n",
       "      <td>0</td>\n",
       "      <td>0</td>\n",
       "      <td>132</td>\n",
       "      <td>0</td>\n",
       "      <td>1.2</td>\n",
       "      <td>1</td>\n",
       "      <td>0</td>\n",
       "      <td>2</td>\n",
       "      <td>1</td>\n",
       "    </tr>\n",
       "    <tr>\n",
       "      <th>19</th>\n",
       "      <td>42</td>\n",
       "      <td>1</td>\n",
       "      <td>0</td>\n",
       "      <td>148</td>\n",
       "      <td>244</td>\n",
       "      <td>0</td>\n",
       "      <td>2</td>\n",
       "      <td>178</td>\n",
       "      <td>0</td>\n",
       "      <td>0.8</td>\n",
       "      <td>0</td>\n",
       "      <td>2</td>\n",
       "      <td>0</td>\n",
       "      <td>0</td>\n",
       "    </tr>\n",
       "    <tr>\n",
       "      <th>20</th>\n",
       "      <td>40</td>\n",
       "      <td>1</td>\n",
       "      <td>0</td>\n",
       "      <td>140</td>\n",
       "      <td>199</td>\n",
       "      <td>0</td>\n",
       "      <td>0</td>\n",
       "      <td>178</td>\n",
       "      <td>1</td>\n",
       "      <td>1.4</td>\n",
       "      <td>0</td>\n",
       "      <td>0</td>\n",
       "      <td>2</td>\n",
       "      <td>0</td>\n",
       "    </tr>\n",
       "    <tr>\n",
       "      <th>21</th>\n",
       "      <td>38</td>\n",
       "      <td>1</td>\n",
       "      <td>0</td>\n",
       "      <td>120</td>\n",
       "      <td>231</td>\n",
       "      <td>0</td>\n",
       "      <td>0</td>\n",
       "      <td>182</td>\n",
       "      <td>1</td>\n",
       "      <td>3.8</td>\n",
       "      <td>1</td>\n",
       "      <td>0</td>\n",
       "      <td>2</td>\n",
       "      <td>1</td>\n",
       "    </tr>\n",
       "    <tr>\n",
       "      <th>22</th>\n",
       "      <td>34</td>\n",
       "      <td>1</td>\n",
       "      <td>0</td>\n",
       "      <td>118</td>\n",
       "      <td>182</td>\n",
       "      <td>0</td>\n",
       "      <td>2</td>\n",
       "      <td>174</td>\n",
       "      <td>0</td>\n",
       "      <td>0.0</td>\n",
       "      <td>0</td>\n",
       "      <td>0</td>\n",
       "      <td>0</td>\n",
       "      <td>0</td>\n",
       "    </tr>\n",
       "    <tr>\n",
       "      <th>23</th>\n",
       "      <td>74</td>\n",
       "      <td>0</td>\n",
       "      <td>1</td>\n",
       "      <td>120</td>\n",
       "      <td>269</td>\n",
       "      <td>0</td>\n",
       "      <td>2</td>\n",
       "      <td>121</td>\n",
       "      <td>1</td>\n",
       "      <td>0.2</td>\n",
       "      <td>0</td>\n",
       "      <td>1</td>\n",
       "      <td>0</td>\n",
       "      <td>0</td>\n",
       "    </tr>\n",
       "    <tr>\n",
       "      <th>24</th>\n",
       "      <td>71</td>\n",
       "      <td>0</td>\n",
       "      <td>1</td>\n",
       "      <td>160</td>\n",
       "      <td>302</td>\n",
       "      <td>0</td>\n",
       "      <td>0</td>\n",
       "      <td>162</td>\n",
       "      <td>0</td>\n",
       "      <td>0.4</td>\n",
       "      <td>0</td>\n",
       "      <td>2</td>\n",
       "      <td>0</td>\n",
       "      <td>0</td>\n",
       "    </tr>\n",
       "    <tr>\n",
       "      <th>25</th>\n",
       "      <td>70</td>\n",
       "      <td>1</td>\n",
       "      <td>1</td>\n",
       "      <td>156</td>\n",
       "      <td>245</td>\n",
       "      <td>0</td>\n",
       "      <td>2</td>\n",
       "      <td>143</td>\n",
       "      <td>0</td>\n",
       "      <td>0.0</td>\n",
       "      <td>0</td>\n",
       "      <td>0</td>\n",
       "      <td>0</td>\n",
       "      <td>0</td>\n",
       "    </tr>\n",
       "    <tr>\n",
       "      <th>26</th>\n",
       "      <td>66</td>\n",
       "      <td>1</td>\n",
       "      <td>1</td>\n",
       "      <td>160</td>\n",
       "      <td>246</td>\n",
       "      <td>0</td>\n",
       "      <td>0</td>\n",
       "      <td>120</td>\n",
       "      <td>1</td>\n",
       "      <td>0.0</td>\n",
       "      <td>1</td>\n",
       "      <td>3</td>\n",
       "      <td>1</td>\n",
       "      <td>1</td>\n",
       "    </tr>\n",
       "    <tr>\n",
       "      <th>27</th>\n",
       "      <td>63</td>\n",
       "      <td>0</td>\n",
       "      <td>1</td>\n",
       "      <td>140</td>\n",
       "      <td>195</td>\n",
       "      <td>0</td>\n",
       "      <td>0</td>\n",
       "      <td>179</td>\n",
       "      <td>0</td>\n",
       "      <td>0.0</td>\n",
       "      <td>0</td>\n",
       "      <td>2</td>\n",
       "      <td>0</td>\n",
       "      <td>0</td>\n",
       "    </tr>\n",
       "    <tr>\n",
       "      <th>28</th>\n",
       "      <td>62</td>\n",
       "      <td>1</td>\n",
       "      <td>1</td>\n",
       "      <td>120</td>\n",
       "      <td>281</td>\n",
       "      <td>0</td>\n",
       "      <td>2</td>\n",
       "      <td>103</td>\n",
       "      <td>0</td>\n",
       "      <td>1.4</td>\n",
       "      <td>1</td>\n",
       "      <td>1</td>\n",
       "      <td>2</td>\n",
       "      <td>1</td>\n",
       "    </tr>\n",
       "    <tr>\n",
       "      <th>29</th>\n",
       "      <td>62</td>\n",
       "      <td>1</td>\n",
       "      <td>1</td>\n",
       "      <td>128</td>\n",
       "      <td>208</td>\n",
       "      <td>1</td>\n",
       "      <td>2</td>\n",
       "      <td>140</td>\n",
       "      <td>0</td>\n",
       "      <td>0.0</td>\n",
       "      <td>0</td>\n",
       "      <td>0</td>\n",
       "      <td>0</td>\n",
       "      <td>0</td>\n",
       "    </tr>\n",
       "  </tbody>\n",
       "</table>\n",
       "</div>"
      ],
      "text/plain": [
       "    age  sex  cp  trestbps  chol  fbs  restecg  thalach  exang  oldpeak  \\\n",
       "0    69    1   0       160   234    1        2      131      0      0.1   \n",
       "1    69    0   0       140   239    0        0      151      0      1.8   \n",
       "2    66    0   0       150   226    0        0      114      0      2.6   \n",
       "3    65    1   0       138   282    1        2      174      0      1.4   \n",
       "4    64    1   0       110   211    0        2      144      1      1.8   \n",
       "5    64    1   0       170   227    0        2      155      0      0.6   \n",
       "6    63    1   0       145   233    1        2      150      0      2.3   \n",
       "7    61    1   0       134   234    0        0      145      0      2.6   \n",
       "8    60    0   0       150   240    0        0      171      0      0.9   \n",
       "9    59    1   0       178   270    0        2      145      0      4.2   \n",
       "10   59    1   0       170   288    0        2      159      0      0.2   \n",
       "11   59    1   0       160   273    0        2      125      0      0.0   \n",
       "12   59    1   0       134   204    0        0      162      0      0.8   \n",
       "13   58    0   0       150   283    1        2      162      0      1.0   \n",
       "14   56    1   0       120   193    0        2      162      0      1.9   \n",
       "15   52    1   0       118   186    0        2      190      0      0.0   \n",
       "16   52    1   0       152   298    1        0      178      0      1.2   \n",
       "17   51    1   0       125   213    0        2      125      1      1.4   \n",
       "18   45    1   0       110   264    0        0      132      0      1.2   \n",
       "19   42    1   0       148   244    0        2      178      0      0.8   \n",
       "20   40    1   0       140   199    0        0      178      1      1.4   \n",
       "21   38    1   0       120   231    0        0      182      1      3.8   \n",
       "22   34    1   0       118   182    0        2      174      0      0.0   \n",
       "23   74    0   1       120   269    0        2      121      1      0.2   \n",
       "24   71    0   1       160   302    0        0      162      0      0.4   \n",
       "25   70    1   1       156   245    0        2      143      0      0.0   \n",
       "26   66    1   1       160   246    0        0      120      1      0.0   \n",
       "27   63    0   1       140   195    0        0      179      0      0.0   \n",
       "28   62    1   1       120   281    0        2      103      0      1.4   \n",
       "29   62    1   1       128   208    1        2      140      0      0.0   \n",
       "\n",
       "    slope  ca  thal  condition  \n",
       "0       1   1     0          0  \n",
       "1       0   2     0          0  \n",
       "2       2   0     0          0  \n",
       "3       1   1     0          1  \n",
       "4       1   0     0          0  \n",
       "5       1   0     2          0  \n",
       "6       2   0     1          0  \n",
       "7       1   2     0          1  \n",
       "8       0   0     0          0  \n",
       "9       2   0     2          0  \n",
       "10      1   0     2          1  \n",
       "11      0   0     0          1  \n",
       "12      0   2     0          1  \n",
       "13      0   0     0          0  \n",
       "14      1   0     2          0  \n",
       "15      1   0     1          0  \n",
       "16      1   0     2          0  \n",
       "17      0   1     0          0  \n",
       "18      1   0     2          1  \n",
       "19      0   2     0          0  \n",
       "20      0   0     2          0  \n",
       "21      1   0     2          1  \n",
       "22      0   0     0          0  \n",
       "23      0   1     0          0  \n",
       "24      0   2     0          0  \n",
       "25      0   0     0          0  \n",
       "26      1   3     1          1  \n",
       "27      0   2     0          0  \n",
       "28      1   1     2          1  \n",
       "29      0   0     0          0  "
      ]
     },
     "execution_count": 477,
     "metadata": {},
     "output_type": "execute_result"
    }
   ],
   "source": [
    "# realiza la lectura de los datos para el analisis explotario\n",
    "hear_Disease.head(30) "
   ]
  },
  {
   "cell_type": "code",
   "execution_count": 479,
   "id": "84302a1d-e333-438d-a7b1-f46c2dd60e90",
   "metadata": {},
   "outputs": [
    {
     "data": {
      "text/html": [
       "<div>\n",
       "<style scoped>\n",
       "    .dataframe tbody tr th:only-of-type {\n",
       "        vertical-align: middle;\n",
       "    }\n",
       "\n",
       "    .dataframe tbody tr th {\n",
       "        vertical-align: top;\n",
       "    }\n",
       "\n",
       "    .dataframe thead th {\n",
       "        text-align: right;\n",
       "    }\n",
       "</style>\n",
       "<table border=\"1\" class=\"dataframe\">\n",
       "  <thead>\n",
       "    <tr style=\"text-align: right;\">\n",
       "      <th></th>\n",
       "      <th>age</th>\n",
       "      <th>sex</th>\n",
       "      <th>cp</th>\n",
       "      <th>trestbps</th>\n",
       "      <th>chol</th>\n",
       "      <th>fbs</th>\n",
       "      <th>restecg</th>\n",
       "      <th>thalach</th>\n",
       "      <th>exang</th>\n",
       "      <th>oldpeak</th>\n",
       "      <th>slope</th>\n",
       "      <th>ca</th>\n",
       "      <th>thal</th>\n",
       "      <th>condition</th>\n",
       "    </tr>\n",
       "  </thead>\n",
       "  <tbody>\n",
       "    <tr>\n",
       "      <th>count</th>\n",
       "      <td>297.000000</td>\n",
       "      <td>297.000000</td>\n",
       "      <td>297.000000</td>\n",
       "      <td>297.000000</td>\n",
       "      <td>297.000000</td>\n",
       "      <td>297.000000</td>\n",
       "      <td>297.000000</td>\n",
       "      <td>297.000000</td>\n",
       "      <td>297.000000</td>\n",
       "      <td>297.000000</td>\n",
       "      <td>297.000000</td>\n",
       "      <td>297.000000</td>\n",
       "      <td>297.000000</td>\n",
       "      <td>297.000000</td>\n",
       "    </tr>\n",
       "    <tr>\n",
       "      <th>mean</th>\n",
       "      <td>54.542088</td>\n",
       "      <td>0.676768</td>\n",
       "      <td>2.158249</td>\n",
       "      <td>131.693603</td>\n",
       "      <td>247.350168</td>\n",
       "      <td>0.144781</td>\n",
       "      <td>0.996633</td>\n",
       "      <td>149.599327</td>\n",
       "      <td>0.326599</td>\n",
       "      <td>1.055556</td>\n",
       "      <td>0.602694</td>\n",
       "      <td>0.676768</td>\n",
       "      <td>0.835017</td>\n",
       "      <td>0.461279</td>\n",
       "    </tr>\n",
       "    <tr>\n",
       "      <th>std</th>\n",
       "      <td>9.049736</td>\n",
       "      <td>0.468500</td>\n",
       "      <td>0.964859</td>\n",
       "      <td>17.762806</td>\n",
       "      <td>51.997583</td>\n",
       "      <td>0.352474</td>\n",
       "      <td>0.994914</td>\n",
       "      <td>22.941562</td>\n",
       "      <td>0.469761</td>\n",
       "      <td>1.166123</td>\n",
       "      <td>0.618187</td>\n",
       "      <td>0.938965</td>\n",
       "      <td>0.956690</td>\n",
       "      <td>0.499340</td>\n",
       "    </tr>\n",
       "    <tr>\n",
       "      <th>min</th>\n",
       "      <td>29.000000</td>\n",
       "      <td>0.000000</td>\n",
       "      <td>0.000000</td>\n",
       "      <td>94.000000</td>\n",
       "      <td>126.000000</td>\n",
       "      <td>0.000000</td>\n",
       "      <td>0.000000</td>\n",
       "      <td>71.000000</td>\n",
       "      <td>0.000000</td>\n",
       "      <td>0.000000</td>\n",
       "      <td>0.000000</td>\n",
       "      <td>0.000000</td>\n",
       "      <td>0.000000</td>\n",
       "      <td>0.000000</td>\n",
       "    </tr>\n",
       "    <tr>\n",
       "      <th>25%</th>\n",
       "      <td>48.000000</td>\n",
       "      <td>0.000000</td>\n",
       "      <td>2.000000</td>\n",
       "      <td>120.000000</td>\n",
       "      <td>211.000000</td>\n",
       "      <td>0.000000</td>\n",
       "      <td>0.000000</td>\n",
       "      <td>133.000000</td>\n",
       "      <td>0.000000</td>\n",
       "      <td>0.000000</td>\n",
       "      <td>0.000000</td>\n",
       "      <td>0.000000</td>\n",
       "      <td>0.000000</td>\n",
       "      <td>0.000000</td>\n",
       "    </tr>\n",
       "    <tr>\n",
       "      <th>50%</th>\n",
       "      <td>56.000000</td>\n",
       "      <td>1.000000</td>\n",
       "      <td>2.000000</td>\n",
       "      <td>130.000000</td>\n",
       "      <td>243.000000</td>\n",
       "      <td>0.000000</td>\n",
       "      <td>1.000000</td>\n",
       "      <td>153.000000</td>\n",
       "      <td>0.000000</td>\n",
       "      <td>0.800000</td>\n",
       "      <td>1.000000</td>\n",
       "      <td>0.000000</td>\n",
       "      <td>0.000000</td>\n",
       "      <td>0.000000</td>\n",
       "    </tr>\n",
       "    <tr>\n",
       "      <th>75%</th>\n",
       "      <td>61.000000</td>\n",
       "      <td>1.000000</td>\n",
       "      <td>3.000000</td>\n",
       "      <td>140.000000</td>\n",
       "      <td>276.000000</td>\n",
       "      <td>0.000000</td>\n",
       "      <td>2.000000</td>\n",
       "      <td>166.000000</td>\n",
       "      <td>1.000000</td>\n",
       "      <td>1.600000</td>\n",
       "      <td>1.000000</td>\n",
       "      <td>1.000000</td>\n",
       "      <td>2.000000</td>\n",
       "      <td>1.000000</td>\n",
       "    </tr>\n",
       "    <tr>\n",
       "      <th>max</th>\n",
       "      <td>77.000000</td>\n",
       "      <td>1.000000</td>\n",
       "      <td>3.000000</td>\n",
       "      <td>200.000000</td>\n",
       "      <td>564.000000</td>\n",
       "      <td>1.000000</td>\n",
       "      <td>2.000000</td>\n",
       "      <td>202.000000</td>\n",
       "      <td>1.000000</td>\n",
       "      <td>6.200000</td>\n",
       "      <td>2.000000</td>\n",
       "      <td>3.000000</td>\n",
       "      <td>2.000000</td>\n",
       "      <td>1.000000</td>\n",
       "    </tr>\n",
       "  </tbody>\n",
       "</table>\n",
       "</div>"
      ],
      "text/plain": [
       "              age         sex          cp    trestbps        chol         fbs  \\\n",
       "count  297.000000  297.000000  297.000000  297.000000  297.000000  297.000000   \n",
       "mean    54.542088    0.676768    2.158249  131.693603  247.350168    0.144781   \n",
       "std      9.049736    0.468500    0.964859   17.762806   51.997583    0.352474   \n",
       "min     29.000000    0.000000    0.000000   94.000000  126.000000    0.000000   \n",
       "25%     48.000000    0.000000    2.000000  120.000000  211.000000    0.000000   \n",
       "50%     56.000000    1.000000    2.000000  130.000000  243.000000    0.000000   \n",
       "75%     61.000000    1.000000    3.000000  140.000000  276.000000    0.000000   \n",
       "max     77.000000    1.000000    3.000000  200.000000  564.000000    1.000000   \n",
       "\n",
       "          restecg     thalach       exang     oldpeak       slope          ca  \\\n",
       "count  297.000000  297.000000  297.000000  297.000000  297.000000  297.000000   \n",
       "mean     0.996633  149.599327    0.326599    1.055556    0.602694    0.676768   \n",
       "std      0.994914   22.941562    0.469761    1.166123    0.618187    0.938965   \n",
       "min      0.000000   71.000000    0.000000    0.000000    0.000000    0.000000   \n",
       "25%      0.000000  133.000000    0.000000    0.000000    0.000000    0.000000   \n",
       "50%      1.000000  153.000000    0.000000    0.800000    1.000000    0.000000   \n",
       "75%      2.000000  166.000000    1.000000    1.600000    1.000000    1.000000   \n",
       "max      2.000000  202.000000    1.000000    6.200000    2.000000    3.000000   \n",
       "\n",
       "             thal   condition  \n",
       "count  297.000000  297.000000  \n",
       "mean     0.835017    0.461279  \n",
       "std      0.956690    0.499340  \n",
       "min      0.000000    0.000000  \n",
       "25%      0.000000    0.000000  \n",
       "50%      0.000000    0.000000  \n",
       "75%      2.000000    1.000000  \n",
       "max      2.000000    1.000000  "
      ]
     },
     "execution_count": 479,
     "metadata": {},
     "output_type": "execute_result"
    }
   ],
   "source": [
    "# descripcion de los datos variable – Heart Disease Cleveland UCI:\n",
    "hear_Disease.describe()"
   ]
  },
  {
   "cell_type": "code",
   "execution_count": 481,
   "id": "3048e13e-db57-4c35-9ad3-9656bf7c0d41",
   "metadata": {},
   "outputs": [
    {
     "data": {
      "text/plain": [
       "Text(0.5, 1.0, 'identificacion de datos faltantes')"
      ]
     },
     "execution_count": 481,
     "metadata": {},
     "output_type": "execute_result"
    },
    {
     "data": {
      "image/png": "[encoded data removed]",
      "text/plain": [
       "<Figure size 600x300 with 1 Axes>"
      ]
     },
     "metadata": {},
     "output_type": "display_data"
    }
   ],
   "source": [
    "# identificacion de datos faltantes\n",
    "plt.figure(figsize=(6,3))\n",
    "sns.boxplot(x=hear_Disease['age'])\n",
    "plt.title('identificacion de datos faltantes', fontsize=4)"
   ]
  },
  {
   "cell_type": "code",
   "execution_count": 483,
   "id": "1afd4487-25db-4f2b-b1ff-16ca6aa463c9",
   "metadata": {},
   "outputs": [
    {
     "data": {
      "text/plain": [
       "Text(0.5, 1.0, 'identificacion de datos faltantes')"
      ]
     },
     "execution_count": 483,
     "metadata": {},
     "output_type": "execute_result"
    },
    {
     "data": {
      "image/png": "[encoded data removed]",
      "text/plain": [
       "<Figure size 600x300 with 1 Axes>"
      ]
     },
     "metadata": {},
     "output_type": "display_data"
    }
   ],
   "source": [
    "plt.figure(figsize=(6,3))\n",
    "sns.boxplot(x=hear_Disease['cp'])\n",
    "plt.title('identificacion de datos faltantes', fontsize=4)"
   ]
  },
  {
   "cell_type": "code",
   "execution_count": 484,
   "id": "7bcbc02c-5501-498c-81c5-e4362017f1c2",
   "metadata": {},
   "outputs": [
    {
     "data": {
      "text/plain": [
       "Text(0.5, 1.0, 'identificacion de datos faltantes')"
      ]
     },
     "execution_count": 484,
     "metadata": {},
     "output_type": "execute_result"
    },
    {
     "data": {
      "image/png": "[encoded data removed]",
      "text/plain": [
       "<Figure size 600x300 with 1 Axes>"
      ]
     },
     "metadata": {},
     "output_type": "display_data"
    }
   ],
   "source": [
    "\n",
    "plt.figure(figsize=(6,3))\n",
    "sns.boxplot(x=hear_Disease['chol'])\n",
    "plt.title('identificacion de datos faltantes', fontsize=4)"
   ]
  },
  {
   "cell_type": "code",
   "execution_count": 486,
   "id": "8b7a68a4-70ee-4999-849a-42fa0a120f98",
   "metadata": {},
   "outputs": [
    {
     "data": {
      "text/plain": [
       "Text(0.5, 1.0, 'identificacion de datos faltantes')"
      ]
     },
     "execution_count": 486,
     "metadata": {},
     "output_type": "execute_result"
    },
    {
     "data": {
      "image/png": "[encoded data removed]",
      "text/plain": [
       "<Figure size 600x300 with 1 Axes>"
      ]
     },
     "metadata": {},
     "output_type": "display_data"
    }
   ],
   "source": [
    "plt.figure(figsize=(6,3))\n",
    "sns.boxplot(x=hear_Disease['fbs'])\n",
    "plt.title('identificacion de datos faltantes', fontsize=4)"
   ]
  },
  {
   "cell_type": "code",
   "execution_count": 314,
   "id": "043ecbd5-00e9-4e4e-8a56-93e07c72abdd",
   "metadata": {},
   "outputs": [
    {
     "data": {
      "text/plain": [
       "Text(0.5, 1.0, 'identificacion de datos faltantes')"
      ]
     },
     "execution_count": 314,
     "metadata": {},
     "output_type": "execute_result"
    },
    {
     "data": {
      "image/png": "[encoded data removed]",
      "text/plain": [
       "<Figure size 600x300 with 1 Axes>"
      ]
     },
     "metadata": {},
     "output_type": "display_data"
    }
   ],
   "source": [
    "plt.figure(figsize=(6,3))\n",
    "sns.boxplot(x=hear_Disease['restecg'])\n",
    "plt.title('identificacion de datos faltantes', fontsize=4)"
   ]
  },
  {
   "cell_type": "code",
   "execution_count": 318,
   "id": "0eb46be6-dad3-49ef-aa32-fe0d665faa09",
   "metadata": {},
   "outputs": [
    {
     "data": {
      "text/plain": [
       "Text(0.5, 1.0, 'identificacion de datos faltantes')"
      ]
     },
     "execution_count": 318,
     "metadata": {},
     "output_type": "execute_result"
    },
    {
     "data": {
      "image/png": "[encoded data removed]",
      "text/plain": [
       "<Figure size 600x300 with 1 Axes>"
      ]
     },
     "metadata": {},
     "output_type": "display_data"
    }
   ],
   "source": [
    "plt.figure(figsize=(6,3))\n",
    "sns.boxplot(x=hear_Disease['thalach'])\n",
    "plt.title('identificacion de datos faltantes', fontsize=4)"
   ]
  },
  {
   "cell_type": "code",
   "execution_count": 215,
   "id": "82be5782-8b42-474a-a0e5-7eef0cea0ed8",
   "metadata": {},
   "outputs": [
    {
     "data": {
      "text/plain": [
       "Text(0.5, 1.0, 'identificacion de datos faltantes')"
      ]
     },
     "execution_count": 215,
     "metadata": {},
     "output_type": "execute_result"
    },
    {
     "data": {
      "image/png": "[encoded data removed]",
      "text/plain": [
       "<Figure size 600x300 with 1 Axes>"
      ]
     },
     "metadata": {},
     "output_type": "display_data"
    }
   ],
   "source": [
    "plt.figure(figsize=(6,3))\n",
    "sns.boxplot(x=hear_Disease['exang'])\n",
    "plt.title('identificacion de datos faltantes', fontsize=4)"
   ]
  },
  {
   "cell_type": "code",
   "execution_count": 217,
   "id": "ea21e480-da92-46ec-8716-5e7dac1129cb",
   "metadata": {},
   "outputs": [
    {
     "data": {
      "text/plain": [
       "Text(0.5, 1.0, 'identificacion de datos faltantes')"
      ]
     },
     "execution_count": 217,
     "metadata": {},
     "output_type": "execute_result"
    },
    {
     "data": {
      "image/png": "[encoded data removed]",
      "text/plain": [
       "<Figure size 600x300 with 1 Axes>"
      ]
     },
     "metadata": {},
     "output_type": "display_data"
    }
   ],
   "source": [
    "plt.figure(figsize=(6,3))\n",
    "sns.boxplot(x=hear_Disease['oldpeak'])\n",
    "plt.title('identificacion de datos faltantes', fontsize=4)"
   ]
  },
  {
   "cell_type": "code",
   "execution_count": 219,
   "id": "50252ed1-3b81-44d5-a49f-d0a78b42754e",
   "metadata": {},
   "outputs": [
    {
     "data": {
      "text/plain": [
       "Text(0.5, 1.0, 'identificacion de datos faltantes')"
      ]
     },
     "execution_count": 219,
     "metadata": {},
     "output_type": "execute_result"
    },
    {
     "data": {
      "image/png": "[encoded data removed]",
      "text/plain": [
       "<Figure size 600x300 with 1 Axes>"
      ]
     },
     "metadata": {},
     "output_type": "display_data"
    }
   ],
   "source": [
    "plt.figure(figsize=(6,3))\n",
    "sns.boxplot(x=hear_Disease['slope'])\n",
    "plt.title('identificacion de datos faltantes', fontsize=4)"
   ]
  },
  {
   "cell_type": "code",
   "execution_count": 43,
   "id": "19dd5cb5-3cbd-43b7-b6b2-c0a0f0f2ff66",
   "metadata": {},
   "outputs": [
    {
     "data": {
      "text/plain": [
       "Text(0.5, 1.0, 'identificacion de datos faltantes')"
      ]
     },
     "execution_count": 43,
     "metadata": {},
     "output_type": "execute_result"
    },
    {
     "data": {
      "image/png": "[encoded data removed]",
      "text/plain": [
       "<Figure size 600x300 with 1 Axes>"
      ]
     },
     "metadata": {},
     "output_type": "display_data"
    }
   ],
   "source": [
    "plt.figure(figsize=(6,3))\n",
    "sns.boxplot(x=hear_Disease['ca'])\n",
    "plt.title('identificacion de datos faltantes', fontsize=4)\n"
   ]
  },
  {
   "cell_type": "code",
   "execution_count": 45,
   "id": "3f59d541-8811-4124-a6ce-3173159c470e",
   "metadata": {},
   "outputs": [
    {
     "data": {
      "text/plain": [
       "Text(0.5, 1.0, 'identificacion de datos faltantes')"
      ]
     },
     "execution_count": 45,
     "metadata": {},
     "output_type": "execute_result"
    },
    {
     "data": {
      "image/png": "[encoded data removed]",
      "text/plain": [
       "<Figure size 600x300 with 1 Axes>"
      ]
     },
     "metadata": {},
     "output_type": "display_data"
    }
   ],
   "source": [
    "plt.figure(figsize=(6,3))\n",
    "sns.boxplot(x=hear_Disease['thal'])\n",
    "plt.title('identificacion de datos faltantes', fontsize=4)"
   ]
  },
  {
   "cell_type": "code",
   "execution_count": 49,
   "id": "dda0ac41-d00f-4a42-ab31-4568bb13a771",
   "metadata": {},
   "outputs": [
    {
     "data": {
      "text/plain": [
       "Text(0.5, 1.0, 'identificacion de datos faltantes')"
      ]
     },
     "execution_count": 49,
     "metadata": {},
     "output_type": "execute_result"
    },
    {
     "data": {
      "image/png": "[encoded data removed]",
      "text/plain": [
       "<Figure size 600x300 with 1 Axes>"
      ]
     },
     "metadata": {},
     "output_type": "display_data"
    }
   ],
   "source": [
    "plt.figure(figsize=(6,3))\n",
    "sns.boxplot(x=hear_Disease['trestbps'])\n",
    "plt.title('identificacion de datos faltantes', fontsize=4)"
   ]
  },
  {
   "cell_type": "code",
   "execution_count": 51,
   "id": "4f31582d-7480-4303-bb0b-ded08d443abd",
   "metadata": {},
   "outputs": [
    {
     "data": {
      "text/plain": [
       "Text(0.5, 1.0, 'identificacion de datos faltantes')"
      ]
     },
     "execution_count": 51,
     "metadata": {},
     "output_type": "execute_result"
    },
    {
     "data": {
      "image/png": "[encoded data removed]",
      "text/plain": [
       "<Figure size 600x300 with 1 Axes>"
      ]
     },
     "metadata": {},
     "output_type": "display_data"
    }
   ],
   "source": [
    "plt.figure(figsize=(6,3))\n",
    "sns.boxplot(x=hear_Disease['condition'])\n",
    "plt.title('identificacion de datos faltantes', fontsize=4)\n"
   ]
  },
  {
   "cell_type": "code",
   "execution_count": 53,
   "id": "612872c7-16cf-4bbc-afb4-3a9ef8a6a596",
   "metadata": {},
   "outputs": [
    {
     "data": {
      "text/plain": [
       "Text(0.5, 1.0, 'identificacion de datos faltantes')"
      ]
     },
     "execution_count": 53,
     "metadata": {},
     "output_type": "execute_result"
    },
    {
     "data": {
      "image/png": "[encoded data removed]",
      "text/plain": [
       "<Figure size 600x300 with 1 Axes>"
      ]
     },
     "metadata": {},
     "output_type": "display_data"
    }
   ],
   "source": [
    "plt.figure(figsize=(6,3))\n",
    "sns.boxplot(x=hear_Disease['sex'])\n",
    "plt.title('identificacion de datos faltantes', fontsize=4)"
   ]
  },
  {
   "cell_type": "code",
   "execution_count": 385,
   "id": "ccadb3c9-4666-4512-bb8e-c4239f273214",
   "metadata": {},
   "outputs": [
    {
     "name": "stdout",
     "output_type": "stream",
     "text": [
      "cantidad de registros vacios en  age:  0\n",
      "cantidad de registros vacios en sex:  96\n",
      "cantidad de registros vacios en cp:  23\n",
      "cantidad de registros vacios en trestbps:  0\n",
      "cantidad de registros vacios en chol:  0\n",
      "cantidad de registros vacios en fbs:  254\n",
      "cantidad de registros vacios en restecg:  147\n",
      "cantidad de registros vacios en thalach:  0\n",
      "cantidad de registros vacios en exang:  200\n",
      "cantidad de registros vacios en oldpeak:  96\n",
      "cantidad de registros vacios en slope:  139\n",
      "cantidad de registros vacios en ca:  174\n",
      "cantidad de registros vacios en thal:  164\n",
      "cantidad de registros vacios en condition:  160\n"
     ]
    }
   ],
   "source": [
    "#PASO 2: Preprocesar los datos limpiándolos, tratando valores faltantes y transformándolos según sea necesario.\n",
    "# REVISION DE DATOS FALTANTES \n",
    "#\t\texang \toldpeak \tslope \tca \tthal \tcondition\n",
    "\n",
    "print(\"cantidad de registros vacios en  age: \",hear_Disease['age'].isin([0]).sum())\n",
    "print(\"cantidad de registros vacios en sex: \",hear_Disease['sex'].isin([0]).sum())\n",
    "print(\"cantidad de registros vacios en cp: \",hear_Disease['cp'].isin([0]).sum())\n",
    "print(\"cantidad de registros vacios en trestbps: \",hear_Disease['trestbps'].isin([0]).sum())\n",
    "print(\"cantidad de registros vacios en chol: \",hear_Disease['chol'].isin([0]).sum())\n",
    "print(\"cantidad de registros vacios en fbs: \",hear_Disease['fbs'].isin([0]).sum())\n",
    "print(\"cantidad de registros vacios en restecg: \",hear_Disease['restecg'].isin([0]).sum())\n",
    "print(\"cantidad de registros vacios en thalach: \",hear_Disease['thalach'].isin([0]).sum())\n",
    "print(\"cantidad de registros vacios en exang: \",hear_Disease['exang'].isin([0]).sum())\n",
    "print(\"cantidad de registros vacios en oldpeak: \",hear_Disease['oldpeak'].isin([0]).sum())\n",
    "print(\"cantidad de registros vacios en slope: \",hear_Disease['slope'].isin([0]).sum())\n",
    "print(\"cantidad de registros vacios en ca: \",hear_Disease['ca'].isin([0]).sum())\n",
    "print(\"cantidad de registros vacios en thal: \",hear_Disease['thal'].isin([0]).sum())\n",
    "print(\"cantidad de registros vacios en condition: \",hear_Disease['condition'].isin([0]).sum())\n",
    "\n"
   ]
  },
  {
   "cell_type": "code",
   "execution_count": 387,
   "id": "ebed20aa-db73-419e-bdbc-b62d40e518e1",
   "metadata": {},
   "outputs": [],
   "source": [
    "#reemplazar los datos con el valor medio (promedio de la columna \n",
    "\n",
    "\n",
    "hear_Disease['cp'] = hear_Disease['cp'].replace(0, hear_Disease['cp'].mean())\n",
    "hear_Disease['fbs'] = hear_Disease['fbs'].replace(0, hear_Disease['fbs'].mean())\n",
    "hear_Disease['restecg'] = hear_Disease['restecg'].replace(0, hear_Disease['restecg'].mean())\n",
    "hear_Disease['exang'] = hear_Disease['exang'].replace(0, hear_Disease['exang'].mean())\n",
    "hear_Disease['oldpeak'] = hear_Disease['oldpeak'].replace(0, hear_Disease['oldpeak'].mean())\n",
    "hear_Disease['slope'] = hear_Disease['slope'].replace(0, hear_Disease['slope'].mean())\n",
    "hear_Disease['ca'] = hear_Disease['ca'].replace(0, hear_Disease['ca'].mean())\n",
    "hear_Disease['thal'] = hear_Disease['thal'].replace(0, hear_Disease['thal'].mean())\n",
    "hear_Disease['condition'] = hear_Disease['condition'].replace(0, hear_Disease['condition'].mean())\n",
    "\n",
    "                                                      "
   ]
  },
  {
   "cell_type": "code",
   "execution_count": 389,
   "id": "9873ec63-2e48-4c69-85c6-b702acac7566",
   "metadata": {},
   "outputs": [
    {
     "name": "stdout",
     "output_type": "stream",
     "text": [
      "cantidad de registros vacios en  age:  0\n",
      "cantidad de registros vacios en sex:  96\n",
      "cantidad de registros vacios en cp:  0\n",
      "cantidad de registros vacios en trestbps:  0\n",
      "cantidad de registros vacios en chol:  0\n",
      "cantidad de registros vacios en fbs:  0\n",
      "cantidad de registros vacios en restecg:  0\n",
      "cantidad de registros vacios en thalach:  0\n",
      "cantidad de registros vacios en exang:  0\n",
      "cantidad de registros vacios en oldpeak:  0\n",
      "cantidad de registros vacios en slope:  0\n",
      "cantidad de registros vacios en ca:  0\n",
      "cantidad de registros vacios en thal:  0\n",
      "cantidad de registros vacios en condition:  0\n"
     ]
    }
   ],
   "source": [
    "print(\"cantidad de registros vacios en  age: \",hear_Disease['age'].isin([0]).sum())\n",
    "print(\"cantidad de registros vacios en sex: \",hear_Disease['sex'].isin([0]).sum())\n",
    "print(\"cantidad de registros vacios en cp: \",hear_Disease['cp'].isin([0]).sum())\n",
    "print(\"cantidad de registros vacios en trestbps: \",hear_Disease['trestbps'].isin([0]).sum())\n",
    "print(\"cantidad de registros vacios en chol: \",hear_Disease['chol'].isin([0]).sum())\n",
    "print(\"cantidad de registros vacios en fbs: \",hear_Disease['fbs'].isin([0]).sum())\n",
    "print(\"cantidad de registros vacios en restecg: \",hear_Disease['restecg'].isin([0]).sum())\n",
    "print(\"cantidad de registros vacios en thalach: \",hear_Disease['thalach'].isin([0]).sum())\n",
    "print(\"cantidad de registros vacios en exang: \",hear_Disease['exang'].isin([0]).sum())\n",
    "print(\"cantidad de registros vacios en oldpeak: \",hear_Disease['oldpeak'].isin([0]).sum())\n",
    "print(\"cantidad de registros vacios en slope: \",hear_Disease['slope'].isin([0]).sum())\n",
    "print(\"cantidad de registros vacios en ca: \",hear_Disease['ca'].isin([0]).sum())\n",
    "print(\"cantidad de registros vacios en thal: \",hear_Disease['thal'].isin([0]).sum())\n",
    "print(\"cantidad de registros vacios en condition: \",hear_Disease['condition'].isin([0]).sum())"
   ]
  },
  {
   "cell_type": "code",
   "execution_count": 391,
   "id": "dbde1df9-a582-4f71-993f-fd52a987080e",
   "metadata": {},
   "outputs": [
    {
     "data": {
      "text/plain": [
       "Text(0.5, 1.0, 'identificacion de datos atipicos')"
      ]
     },
     "execution_count": 391,
     "metadata": {},
     "output_type": "execute_result"
    },
    {
     "data": {
      "image/png": "[encoded data removed]",
      "text/plain": [
       "<Figure size 600x300 with 1 Axes>"
      ]
     },
     "metadata": {},
     "output_type": "display_data"
    }
   ],
   "source": [
    "#datos atipicos\n",
    "plt.figure(figsize=(6,3))\n",
    "sns.boxplot(x=hear_Disease['ca'])\n",
    "plt.title('identificacion de datos atipicos', fontsize=4)"
   ]
  },
  {
   "cell_type": "code",
   "execution_count": 392,
   "id": "9a5627b2-7246-4301-9ce5-2de481bcc754",
   "metadata": {},
   "outputs": [
    {
     "name": "stdout",
     "output_type": "stream",
     "text": [
      "el total de datos atipicos es 0\n"
     ]
    }
   ],
   "source": [
    "#conteo de datos\n",
    "nivel_minimo=0\n",
    "nivel_maximo=3\n",
    "total_atipicos=((hear_Disease['ca']<nivel_minimo)|(hear_Disease['ca']>nivel_maximo)).sum()\n",
    "print(\"el total de datos atipicos es {}\".format(total_atipicos))"
   ]
  },
  {
   "cell_type": "code",
   "execution_count": 395,
   "id": "be078e77-fd06-4fb3-a9ca-3fb846fbaff7",
   "metadata": {},
   "outputs": [
    {
     "name": "stdout",
     "output_type": "stream",
     "text": [
      "el total de datos atipicos es 0\n"
     ]
    }
   ],
   "source": [
    "nivel_minimo=0\n",
    "nivel_maximo=3\n",
    "total_atipicos=((hear_Disease['restecg']<nivel_minimo)|(hear_Disease['restecg']>nivel_maximo)).sum()\n",
    "print(\"el total de datos atipicos es {}\".format(total_atipicos))"
   ]
  },
  {
   "cell_type": "code",
   "execution_count": 397,
   "id": "1737f8d2-baa3-43ee-ab1c-1a0dff52019d",
   "metadata": {},
   "outputs": [
    {
     "data": {
      "text/plain": [
       "Text(0.5, 1.0, 'identificacion de datos atipicos')"
      ]
     },
     "execution_count": 397,
     "metadata": {},
     "output_type": "execute_result"
    },
    {
     "data": {
      "image/png": "[encoded data removed]",
      "text/plain": [
       "<Figure size 600x300 with 1 Axes>"
      ]
     },
     "metadata": {},
     "output_type": "display_data"
    }
   ],
   "source": [
    "plt.figure(figsize=(6,3))\n",
    "sns.boxplot(x=hear_Disease['restecg'])\n",
    "plt.title('identificacion de datos atipicos', fontsize=4)"
   ]
  },
  {
   "cell_type": "code",
   "execution_count": 398,
   "id": "260894f1-df00-41db-8c79-005c179ac13d",
   "metadata": {},
   "outputs": [
    {
     "data": {
      "text/plain": [
       "Text(0.5, 1.0, 'identificacion de datos atipicos')"
      ]
     },
     "execution_count": 398,
     "metadata": {},
     "output_type": "execute_result"
    },
    {
     "data": {
      "image/png": "[encoded data removed]",
      "text/plain": [
       "<Figure size 600x300 with 1 Axes>"
      ]
     },
     "metadata": {},
     "output_type": "display_data"
    }
   ],
   "source": [
    "plt.figure(figsize=(6,3))\n",
    "sns.boxplot(x=hear_Disease['oldpeak'])\n",
    "plt.title('identificacion de datos atipicos', fontsize=4)"
   ]
  },
  {
   "cell_type": "code",
   "execution_count": 400,
   "id": "bcd236b7-57e4-4df4-aeaf-664e7a3239e1",
   "metadata": {},
   "outputs": [
    {
     "name": "stdout",
     "output_type": "stream",
     "text": [
      "el total de datos atipicos es 0\n"
     ]
    }
   ],
   "source": [
    "nivel_minimo=0\n",
    "nivel_maximo=6\n",
    "total_atipicos=((hear_Disease['restecg']<nivel_minimo)|(hear_Disease['restecg']>nivel_maximo)).sum()\n",
    "print(\"el total de datos atipicos es {}\".format(total_atipicos))"
   ]
  },
  {
   "cell_type": "code",
   "execution_count": 403,
   "id": "d1c422a1-7ecc-4dcb-8729-0ecdd21fe1f9",
   "metadata": {},
   "outputs": [
    {
     "data": {
      "text/plain": [
       "Text(0.5, 1.0, 'identificacion de datos faltantes')"
      ]
     },
     "execution_count": 403,
     "metadata": {},
     "output_type": "execute_result"
    },
    {
     "data": {
      "image/png": "[encoded data removed]",
      "text/plain": [
       "<Figure size 600x300 with 1 Axes>"
      ]
     },
     "metadata": {},
     "output_type": "display_data"
    }
   ],
   "source": [
    "plt.figure(figsize=(6,3))\n",
    "sns.boxplot(x=hear_Disease['sex'])\n",
    "plt.title('identificacion de datos faltantes', fontsize=4)"
   ]
  },
  {
   "cell_type": "code",
   "execution_count": 405,
   "id": "e72a2bc0-f814-4858-b069-0ba4a708a982",
   "metadata": {},
   "outputs": [
    {
     "name": "stdout",
     "output_type": "stream",
     "text": [
      "el total de datos atipicos es 0\n"
     ]
    }
   ],
   "source": [
    "nivel_minimo=0\n",
    "nivel_maximo=6\n",
    "total_atipicos=((hear_Disease['sex']<nivel_minimo)|(hear_Disease['sex']>nivel_maximo)).sum()\n",
    "print(\"el total de datos atipicos es {}\".format(total_atipicos))"
   ]
  },
  {
   "cell_type": "code",
   "execution_count": null,
   "id": "66de4657-a484-4e26-a9e3-ef20295a8fd1",
   "metadata": {},
   "outputs": [],
   "source": []
  },
  {
   "cell_type": "code",
   "execution_count": 408,
   "id": "b7d1334f-1435-4aa0-8c9a-95e323ce357e",
   "metadata": {},
   "outputs": [
    {
     "name": "stdout",
     "output_type": "stream",
     "text": [
      "el total de datos atipicos es 73\n"
     ]
    }
   ],
   "source": [
    "nivel_minimo=186\n",
    "nivel_maximo=298\n",
    "total_atipicos=((hear_Disease['chol']<nivel_minimo)|(hear_Disease['chol']>nivel_maximo)).sum()\n",
    "print(\"el total de datos atipicos es {}\".format(total_atipicos))"
   ]
  },
  {
   "cell_type": "code",
   "execution_count": 410,
   "id": "3d54a0b2-4f9c-4f85-99dc-5c3779643661",
   "metadata": {},
   "outputs": [
    {
     "name": "stdout",
     "output_type": "stream",
     "text": [
      "El total de datos atípicos es 73\n"
     ]
    }
   ],
   "source": [
    "total_atipicos = ((hear_Disease['chol'] < nivel_minimo) | (hear_Disease['chol'] > nivel_maximo)).sum()\n",
    "print(\"El total de datos atípicos es {}\".format(total_atipicos))\n",
    "\n"
   ]
  },
  {
   "cell_type": "code",
   "execution_count": 412,
   "id": "4e86b1c4-4b8e-4802-b8e0-04a79fed0afb",
   "metadata": {},
   "outputs": [],
   "source": [
    "#filtrar datos atipicos para chol\n",
    "hear_Disease=hear_Disease[(hear_Disease['chol']<nivel_maximo)&(hear_Disease['chol']>nivel_minimo)]\n",
    "\n"
   ]
  },
  {
   "cell_type": "code",
   "execution_count": 414,
   "id": "c8c5cd8c-cc44-4a73-a83b-d81643284246",
   "metadata": {},
   "outputs": [
    {
     "name": "stdout",
     "output_type": "stream",
     "text": [
      "el total de datos atipicos es 0\n"
     ]
    }
   ],
   "source": [
    "#aqui se valida si se removiron los valores atipicos \n",
    "total_atipicos=((hear_Disease['chol']<nivel_minimo)|(hear_Disease['chol']>nivel_maximo)).sum()\n",
    "print(\"el total de datos atipicos es {}\".format(total_atipicos))\n"
   ]
  },
  {
   "cell_type": "code",
   "execution_count": 416,
   "id": "b2c91d2f-6f0c-4adf-9dbe-b657032b64b2",
   "metadata": {},
   "outputs": [
    {
     "name": "stdout",
     "output_type": "stream",
     "text": [
      "el total de datos atipicos es 0\n"
     ]
    }
   ],
   "source": [
    "nivel_minimo=90\n",
    "nivel_maximo=200\n",
    "total_atipicos=((hear_Disease['trestbps']<nivel_minimo)|(hear_Disease['trestbps']>nivel_maximo)).sum()\n",
    "print(\"el total de datos atipicos es {}\".format(total_atipicos))"
   ]
  },
  {
   "cell_type": "code",
   "execution_count": 418,
   "id": "5a02a3ae-0fa9-47ca-9825-40e549438e95",
   "metadata": {},
   "outputs": [
    {
     "name": "stdout",
     "output_type": "stream",
     "text": [
      "<class 'pandas.core.frame.DataFrame'>\n",
      "Index: 221 entries, 0 to 296\n",
      "Data columns (total 14 columns):\n",
      " #   Column     Non-Null Count  Dtype  \n",
      "---  ------     --------------  -----  \n",
      " 0   age        221 non-null    int64  \n",
      " 1   sex        221 non-null    int64  \n",
      " 2   cp         221 non-null    float64\n",
      " 3   trestbps   221 non-null    int64  \n",
      " 4   chol       221 non-null    int64  \n",
      " 5   fbs        221 non-null    float64\n",
      " 6   restecg    221 non-null    float64\n",
      " 7   thalach    221 non-null    int64  \n",
      " 8   exang      221 non-null    float64\n",
      " 9   oldpeak    221 non-null    float64\n",
      " 10  slope      221 non-null    float64\n",
      " 11  ca         221 non-null    float64\n",
      " 12  thal       221 non-null    float64\n",
      " 13  condition  221 non-null    float64\n",
      "dtypes: float64(9), int64(5)\n",
      "memory usage: 25.9 KB\n"
     ]
    }
   ],
   "source": [
    "# revision del tipo de datos y datos faltantes\n",
    "\n",
    "hear_Disease.info()\n"
   ]
  },
  {
   "cell_type": "code",
   "execution_count": 420,
   "id": "42fbdd54-cc66-4b71-a7e9-7c14d33452a7",
   "metadata": {},
   "outputs": [],
   "source": [
    "#PARTE 3:Seleccionar las características más relevantes para entrenar el modelo utilizando selección de características\n",
    "#presencia de enfermedad cardíaca.\n",
    "#- condition: Presencia de enfermedad cardíaca (1 = sí, 0 = no)\n",
    "#predecir si una persona puede tener enfermedades cardiaca"
   ]
  },
  {
   "cell_type": "code",
   "execution_count": 435,
   "id": "974b09b5-32b3-4f71-8952-051fb7d09e63",
   "metadata": {},
   "outputs": [
    {
     "data": {
      "text/plain": [
       "condition\n",
       "0.461279    122\n",
       "1.000000     99\n",
       "Name: count, dtype: int64"
      ]
     },
     "execution_count": 435,
     "metadata": {},
     "output_type": "execute_result"
    }
   ],
   "source": [
    "#total de personas con enfermedades cardiacas\n",
    "hear_Disease['condition'].value_counts()\n"
   ]
  },
  {
   "cell_type": "code",
   "execution_count": 449,
   "id": "9ca5573f-a468-4179-b6ab-a5b610fcc1fd",
   "metadata": {},
   "outputs": [
    {
     "data": {
      "text/html": [
       "<div>\n",
       "<style scoped>\n",
       "    .dataframe tbody tr th:only-of-type {\n",
       "        vertical-align: middle;\n",
       "    }\n",
       "\n",
       "    .dataframe tbody tr th {\n",
       "        vertical-align: top;\n",
       "    }\n",
       "\n",
       "    .dataframe thead th {\n",
       "        text-align: right;\n",
       "    }\n",
       "</style>\n",
       "<table border=\"1\" class=\"dataframe\">\n",
       "  <thead>\n",
       "    <tr style=\"text-align: right;\">\n",
       "      <th></th>\n",
       "      <th>condition</th>\n",
       "    </tr>\n",
       "  </thead>\n",
       "  <tbody>\n",
       "    <tr>\n",
       "      <th>0</th>\n",
       "      <td>0</td>\n",
       "    </tr>\n",
       "    <tr>\n",
       "      <th>1</th>\n",
       "      <td>0</td>\n",
       "    </tr>\n",
       "    <tr>\n",
       "      <th>2</th>\n",
       "      <td>0</td>\n",
       "    </tr>\n",
       "    <tr>\n",
       "      <th>3</th>\n",
       "      <td>1</td>\n",
       "    </tr>\n",
       "    <tr>\n",
       "      <th>4</th>\n",
       "      <td>0</td>\n",
       "    </tr>\n",
       "    <tr>\n",
       "      <th>5</th>\n",
       "      <td>0</td>\n",
       "    </tr>\n",
       "    <tr>\n",
       "      <th>6</th>\n",
       "      <td>0</td>\n",
       "    </tr>\n",
       "    <tr>\n",
       "      <th>7</th>\n",
       "      <td>1</td>\n",
       "    </tr>\n",
       "    <tr>\n",
       "      <th>8</th>\n",
       "      <td>0</td>\n",
       "    </tr>\n",
       "    <tr>\n",
       "      <th>9</th>\n",
       "      <td>0</td>\n",
       "    </tr>\n",
       "    <tr>\n",
       "      <th>10</th>\n",
       "      <td>1</td>\n",
       "    </tr>\n",
       "    <tr>\n",
       "      <th>11</th>\n",
       "      <td>1</td>\n",
       "    </tr>\n",
       "    <tr>\n",
       "      <th>12</th>\n",
       "      <td>1</td>\n",
       "    </tr>\n",
       "    <tr>\n",
       "      <th>13</th>\n",
       "      <td>0</td>\n",
       "    </tr>\n",
       "    <tr>\n",
       "      <th>14</th>\n",
       "      <td>0</td>\n",
       "    </tr>\n",
       "    <tr>\n",
       "      <th>15</th>\n",
       "      <td>0</td>\n",
       "    </tr>\n",
       "    <tr>\n",
       "      <th>16</th>\n",
       "      <td>0</td>\n",
       "    </tr>\n",
       "    <tr>\n",
       "      <th>17</th>\n",
       "      <td>0</td>\n",
       "    </tr>\n",
       "    <tr>\n",
       "      <th>18</th>\n",
       "      <td>1</td>\n",
       "    </tr>\n",
       "    <tr>\n",
       "      <th>19</th>\n",
       "      <td>0</td>\n",
       "    </tr>\n",
       "  </tbody>\n",
       "</table>\n",
       "</div>"
      ],
      "text/plain": [
       "    condition\n",
       "0           0\n",
       "1           0\n",
       "2           0\n",
       "3           1\n",
       "4           0\n",
       "5           0\n",
       "6           0\n",
       "7           1\n",
       "8           0\n",
       "9           0\n",
       "10          1\n",
       "11          1\n",
       "12          1\n",
       "13          0\n",
       "14          0\n",
       "15          0\n",
       "16          0\n",
       "17          0\n",
       "18          1\n",
       "19          0"
      ]
     },
     "execution_count": 449,
     "metadata": {},
     "output_type": "execute_result"
    }
   ],
   "source": [
    "hear_Disease[['condition']].head(20)"
   ]
  },
  {
   "cell_type": "code",
   "execution_count": 430,
   "id": "522ae555-9dd2-4d3c-a4d0-322f456ce38e",
   "metadata": {},
   "outputs": [],
   "source": [
    "#PARTE 4 Dividir el dataset en Train y Test para evaluar correctamente el 3 modelo"
   ]
  },
  {
   "cell_type": "code",
   "execution_count": 513,
   "id": "e9aefbf1-93b3-4d71-8ef8-c90560da877f",
   "metadata": {},
   "outputs": [],
   "source": [
    "# Porcentaje de datos para entrenamiento(train) =75% y para prueba (test) = 25%\n",
    "# se crea variables  x y y para almacenar la informacion del entrenamiento \n",
    "\n",
    "X=hear_Disease.drop('condition',axis=1)\n",
    "Y=hear_Disease['condition']\n",
    "\n",
    "X_train, X_test,Y_train, Y_test =train_test_split(X , Y, test_size=0.25, stratify=Y, random_state=0)\n",
    "                                                   "
   ]
  },
  {
   "cell_type": "code",
   "execution_count": 515,
   "id": "c7412acb-aac0-4b0b-9a72-3d3d1843d409",
   "metadata": {},
   "outputs": [
    {
     "name": "stdout",
     "output_type": "stream",
     "text": [
      "     age  sex  cp  trestbps  chol  fbs  restecg  thalach  exang  oldpeak  \\\n",
      "234   56    0   3       200   288    1        2      133      1      4.0   \n",
      "82    66    0   2       146   278    0        2      152      0      0.0   \n",
      "36    56    1   1       120   240    0        0      169      0      0.0   \n",
      "237   56    1   3       132   184    0        2      105      1      2.1   \n",
      "133   47    1   2       108   243    0        0      152      0      0.0   \n",
      "..   ...  ...  ..       ...   ...  ...      ...      ...    ...      ...   \n",
      "291   40    1   3       110   167    0        2      114      1      2.0   \n",
      "195   61    0   3       130   330    0        2      169      0      0.0   \n",
      "170   65    0   3       150   225    0        2      114      0      1.0   \n",
      "135   46    0   2       142   177    0        2      160      1      1.4   \n",
      "293   39    1   3       118   219    0        0      140      0      1.2   \n",
      "\n",
      "     slope  ca  thal  \n",
      "234      2   2     2  \n",
      "82       1   1     0  \n",
      "36       2   0     0  \n",
      "237      1   1     1  \n",
      "133      0   0     0  \n",
      "..     ...  ..   ...  \n",
      "291      1   0     2  \n",
      "195      0   0     0  \n",
      "170      1   3     2  \n",
      "135      2   0     0  \n",
      "293      1   0     2  \n",
      "\n",
      "[222 rows x 13 columns]\n"
     ]
    }
   ],
   "source": [
    "print (X_train)"
   ]
  },
  {
   "cell_type": "code",
   "execution_count": 517,
   "id": "7fdf3230-e7e7-4de2-94b8-87e4666b86b3",
   "metadata": {},
   "outputs": [
    {
     "name": "stdout",
     "output_type": "stream",
     "text": [
      "234    1\n",
      "82     0\n",
      "36     0\n",
      "237    1\n",
      "133    1\n",
      "      ..\n",
      "291    1\n",
      "195    1\n",
      "170    1\n",
      "135    0\n",
      "293    1\n",
      "Name: condition, Length: 222, dtype: int64\n"
     ]
    }
   ],
   "source": [
    "print(Y_train)"
   ]
  },
  {
   "cell_type": "code",
   "execution_count": 519,
   "id": "06ea33e4-9f54-40b9-94ee-18694a1ef57d",
   "metadata": {},
   "outputs": [],
   "source": [
    "from sklearn.linear_model import LogisticRegression"
   ]
  },
  {
   "cell_type": "code",
   "execution_count": 521,
   "id": "f2c8a50b-2953-4ea1-9297-6cb537e5d547",
   "metadata": {},
   "outputs": [],
   "source": [
    "#PASO 5:Entrenar el modelo configurando los diferentes hiperparámetros\n",
    "\n",
    "#construir el modelo de regresion logistica \n",
    "modelo_regresionhear = LogisticRegression(solver=\"liblinear\")\n",
    "modelo_regresionhear.fit (X_train , Y_train)\n",
    "\n",
    "Prediccion= modelo_regresionhear.predict(X_test)"
   ]
  },
  {
   "cell_type": "code",
   "execution_count": 523,
   "id": "ac41919f-fbf5-4538-bab6-6b2addf24ada",
   "metadata": {},
   "outputs": [
    {
     "name": "stdout",
     "output_type": "stream",
     "text": [
      "185    1\n",
      "157    1\n",
      "110    0\n",
      "39     0\n",
      "198    1\n",
      "      ..\n",
      "278    0\n",
      "163    1\n",
      "137    0\n",
      "33     1\n",
      "246    1\n",
      "Name: condition, Length: 75, dtype: int64\n"
     ]
    }
   ],
   "source": [
    "print (Y_test)"
   ]
  },
  {
   "cell_type": "code",
   "execution_count": 525,
   "id": "a31f9b1c-c8c5-4f8d-9a23-afbf1ed0f312",
   "metadata": {},
   "outputs": [
    {
     "name": "stdout",
     "output_type": "stream",
     "text": [
      "[1 1 0 0 1 0 1 0 0 1 0 1 1 1 1 1 0 0 0 1 0 1 1 1 0 0 0 0 0 1 0 1 1 0 0 0 0\n",
      " 0 1 0 0 0 1 1 1 1 1 0 1 1 0 1 0 0 0 0 0 1 1 1 1 0 0 0 1 0 0 1 0 0 0 1 0 0\n",
      " 1]\n"
     ]
    }
   ],
   "source": [
    "print(Prediccion)"
   ]
  },
  {
   "cell_type": "code",
   "execution_count": null,
   "id": "c66febbe-4300-4fa8-8c41-e8266d4c654c",
   "metadata": {},
   "outputs": [],
   "source": [
    "#PUNTO 6 Evaluar el desempeño del modelo en el conjunto de Test con métricas como precisión, recall, F1-score, etc\n",
    "\n"
   ]
  },
  {
   "cell_type": "code",
   "execution_count": 529,
   "id": "de82dc56-e309-4afd-9828-95b32c324890",
   "metadata": {},
   "outputs": [
    {
     "name": "stdout",
     "output_type": "stream",
     "text": [
      "              precision    recall  f1-score   support\n",
      "\n",
      "           0       0.88      0.90      0.89        40\n",
      "           1       0.88      0.86      0.87        35\n",
      "\n",
      "    accuracy                           0.88        75\n",
      "   macro avg       0.88      0.88      0.88        75\n",
      "weighted avg       0.88      0.88      0.88        75\n",
      "\n"
     ]
    }
   ],
   "source": [
    "#Desempeño del modelo de regresion\n",
    "\n",
    "print(classification_report(Y_test,Prediccion))"
   ]
  },
  {
   "cell_type": "code",
   "execution_count": 531,
   "id": "5b6b7d9c-7234-4d2e-a5ee-087eeadc9125",
   "metadata": {},
   "outputs": [
    {
     "data": {
      "text/plain": [
       "<sklearn.metrics._plot.confusion_matrix.ConfusionMatrixDisplay at 0x1c474777290>"
      ]
     },
     "execution_count": 531,
     "metadata": {},
     "output_type": "execute_result"
    },
    {
     "data": {
      "image/png": "[encoded data removed]",
      "text/plain": [
       "<Figure size 640x480 with 2 Axes>"
      ]
     },
     "metadata": {},
     "output_type": "display_data"
    }
   ],
   "source": [
    "#PUNTO 7 GRAFICAS PARA VISUALOZAR RESULTADOS \n",
    "#matrix de confusion del modelo \n",
    "\n",
    "cm=confusion_matrix(Y_test,Prediccion)\n",
    "disp=metrics.ConfusionMatrixDisplay(confusion_matrix=cm)\n",
    "disp.plot()"
   ]
  },
  {
   "cell_type": "code",
   "execution_count": 541,
   "id": "95972485-1899-4beb-8479-bfdce356239f",
   "metadata": {},
   "outputs": [],
   "source": [
    "from sklearn.metrics import RocCurveDisplay"
   ]
  },
  {
   "cell_type": "code",
   "execution_count": 545,
   "id": "0bdc8646-d784-4a10-ad73-a36fdb8afad3",
   "metadata": {},
   "outputs": [
    {
     "data": {
      "image/png": "[encoded data removed]",
      "text/plain": [
       "<Figure size 640x480 with 1 Axes>"
      ]
     },
     "metadata": {},
     "output_type": "display_data"
    }
   ],
   "source": [
    "#curva d presison del modelo\n",
    "from sklearn.metrics import RocCurveDisplay\n",
    "RocCurveDisplay.from_predictions(Y_test, Prediccion)\n",
    "plt.show()"
   ]
  },
  {
   "cell_type": "code",
   "execution_count": null,
   "id": "f66a3d75-fece-4c1c-a2d6-ebf7377f34d0",
   "metadata": {},
   "outputs": [],
   "source": [
    "#interpretacion de resultados \n",
    "#Matriz de confusión:\n",
    "\n",
    "La matriz de confusión \n",
    " muestra que el modelo acertó en 36 casos donde la persona no tenía enfermedad cardíaca, y acertó en 30 casos donde sí la tenía.\n",
    "También hubo 4 casos donde el modelo pensó que había enfermedad cuando en realidad no la había, y\n",
    "5 casos donde pensó que no había enfermedad cuando sí la había.\n",
    "\n",
    "\n",
    "\n",
    "Métricas de desempeño:\n",
    "\n",
    "Precisión: 88% - Esto quiere decir que cuando el modelo dice que hay enfermedad, tiene un 88% de probabilidad de estar en lo correcto.\n",
    "Exhaustividad: 86% - Esto significa que el modelo logra identificar la mayoría de los casos con enfermedad.\n",
    "Puntaje F1: 87% - Este puntaje combina la precisión y exhaustividad, dando un buen balance general.\n",
    "Exactitud: 88% - Esto indica que el modelo clasifica correctamente el 88% de los casos.\n",
    "\n",
    "    Curva ROC y AUC:\n",
    "\n",
    "La curva ROC muestra el desempeño del modelo a través de diferentes umbrales de clasificación.\n",
    "El área bajo la curva ROC (AUC) es de 0.88, lo cual indica que el modelo tiene una buena capacidad predictiva.modelo de regresión logística entrenado presenta un buen desempeño en la predicción de la presencia de enfermedad cardíaca, \n",
    "    con métricas como precisión, exhaustividad y exactitud superiores al 85%. La curva ROC y el valor de AUC indican que el modelo es capaz de discriminar adecuadamente entre los casos con y sin enfermedad cardíaca. \n",
    "Estos resultados indican que el modelo puede ser utilizado para realizar predicciones confiables sobre la presencia de enfermedades cardíacas."
   ]
  }
 ],
 "metadata": {
  "kernelspec": {
   "display_name": "Python 3 (ipykernel)",
   "language": "python",
   "name": "python3"
  },
  "language_info": {
   "codemirror_mode": {
    "name": "ipython",
    "version": 3
   },
   "file_extension": ".py",
   "mimetype": "text/x-python",
   "name": "python",
   "nbconvert_exporter": "python",
   "pygments_lexer": "ipython3",
   "version": "3.12.4"
  }
 },
 "nbformat": 4,
 "nbformat_minor": 5
}
